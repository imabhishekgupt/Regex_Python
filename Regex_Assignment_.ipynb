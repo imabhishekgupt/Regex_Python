{
  "nbformat": 4,
  "nbformat_minor": 0,
  "metadata": {
    "colab": {
      "name": "Regex_Assignment .ipynb",
      "provenance": [],
      "collapsed_sections": []
    },
    "kernelspec": {
      "display_name": "Python 3",
      "name": "python3"
    },
    "language_info": {
      "name": "python"
    }
  },
  "cells": [
    {
      "cell_type": "markdown",
      "metadata": {
        "id": "afZdzrovBzsd"
      },
      "source": [
        "# ASSIGNMENT 1\n",
        "### #Task 1\n",
        "**NAME = Abhishek Gupta**"
      ]
    },
    {
      "cell_type": "markdown",
      "metadata": {
        "id": "60y4Vx4_CbZC"
      },
      "source": [
        "**Write code in python to print following patterns**"
      ]
    },
    {
      "cell_type": "markdown",
      "metadata": {
        "id": "W2ssPIgvCtRF"
      },
      "source": [
        "###Question 1 -->>\n",
        "5 5 5 5 5\\\n",
        "5 5 5 5\\\n",
        "5 5 5\\\n",
        "5 5\\\n",
        "5\n"
      ]
    },
    {
      "cell_type": "code",
      "metadata": {
        "colab": {
          "base_uri": "https://localhost:8080/"
        },
        "id": "rzbIIdDOCLJO",
        "outputId": "696fd3d1-0bc6-4c03-d844-b9ad704d3e7b"
      },
      "source": [
        "for i in range(5):\n",
        "  for j in range(i, 5):\n",
        "    print(\"5\", end=\" \")\n",
        "  print()"
      ],
      "execution_count": 17,
      "outputs": [
        {
          "output_type": "stream",
          "name": "stdout",
          "text": [
            "5 5 5 5 5 \n",
            "5 5 5 5 \n",
            "5 5 5 \n",
            "5 5 \n",
            "5 \n"
          ]
        }
      ]
    },
    {
      "cell_type": "markdown",
      "metadata": {
        "id": "gfhOszdMD-qx"
      },
      "source": [
        "###Question 2 -->>\n",
        "0 1 2 3 4 5\\\n",
        "0 1 2 3 4\\\n",
        "0 1 2 3\\\n",
        "0 1 2\\\n",
        "0 1"
      ]
    },
    {
      "cell_type": "code",
      "metadata": {
        "colab": {
          "base_uri": "https://localhost:8080/"
        },
        "id": "wxtsSrIVDpBI",
        "outputId": "89bf2478-ce34-454d-b9f3-6d90aad2c6b5"
      },
      "source": [
        "for i in range(5):\n",
        "  for j in range(0, 6-i):\n",
        "    print(j, end=\" \")\n",
        "  print()"
      ],
      "execution_count": 18,
      "outputs": [
        {
          "output_type": "stream",
          "name": "stdout",
          "text": [
            "0 1 2 3 4 5 \n",
            "0 1 2 3 4 \n",
            "0 1 2 3 \n",
            "0 1 2 \n",
            "0 1 \n"
          ]
        }
      ]
    },
    {
      "cell_type": "markdown",
      "metadata": {
        "id": "dne0EBq0F4RY"
      },
      "source": [
        "###Question 3-->>\n",
        "1\\\n",
        "3 3\\\n",
        "5 5 5\\\n",
        "7 7 7 7\\\n",
        "9 9 9 9 9"
      ]
    },
    {
      "cell_type": "code",
      "metadata": {
        "colab": {
          "base_uri": "https://localhost:8080/"
        },
        "id": "ZmThMhuiEKJh",
        "outputId": "5540144e-fa9f-4afe-8445-d107a86e7792"
      },
      "source": [
        "for i in range(1,10,2):\n",
        "  for j in range(0,i,2):\n",
        "    print(i, end=\" \")\n",
        "  print()"
      ],
      "execution_count": 32,
      "outputs": [
        {
          "output_type": "stream",
          "name": "stdout",
          "text": [
            "1 \n",
            "3 3 \n",
            "5 5 5 \n",
            "7 7 7 7 \n",
            "9 9 9 9 9 \n"
          ]
        }
      ]
    },
    {
      "cell_type": "markdown",
      "metadata": {
        "id": "cJY6eSUCIXXw"
      },
      "source": [
        "###Question-->> 4.\n",
        "1\\\n",
        "2 1\\\n",
        "3 2 1\\\n",
        "4 3 2 1\\\n",
        "5 4 3 2 1\n"
      ]
    },
    {
      "cell_type": "code",
      "metadata": {
        "colab": {
          "base_uri": "https://localhost:8080/"
        },
        "id": "_m3-XmehG1Vy",
        "outputId": "2996f636-d4ba-4262-cfe4-817db129b911"
      },
      "source": [
        "for i in range(0, 6):\n",
        "  for j in range(i, 0, -1):\n",
        "    print(j, end=\" \")\n",
        "  print()"
      ],
      "execution_count": 20,
      "outputs": [
        {
          "output_type": "stream",
          "name": "stdout",
          "text": [
            "\n",
            "1 \n",
            "2 1 \n",
            "3 2 1 \n",
            "4 3 2 1 \n",
            "5 4 3 2 1 \n"
          ]
        }
      ]
    },
    {
      "cell_type": "markdown",
      "metadata": {
        "id": "Sg1ek2RFJO2m"
      },
      "source": [
        "###Question-->>5\n",
        "1\\\n",
        "3 2\\\n",
        "6 5 4\\\n",
        "10 9 8 7"
      ]
    },
    {
      "cell_type": "code",
      "metadata": {
        "colab": {
          "base_uri": "https://localhost:8080/"
        },
        "id": "0uPjcIJWJHY8",
        "outputId": "0e61f031-e96a-41cf-83f7-d73c4e00e008"
      },
      "source": [
        "m=1\n",
        "for i in range(1,5 ):\n",
        "  for j in range(m, m-i, -1):\n",
        "    print(j, end=\" \")\n",
        "  m=m+i+1\n",
        "  print()"
      ],
      "execution_count": 21,
      "outputs": [
        {
          "output_type": "stream",
          "name": "stdout",
          "text": [
            "1 \n",
            "3 2 \n",
            "6 5 4 \n",
            "10 9 8 7 \n"
          ]
        }
      ]
    },
    {
      "cell_type": "markdown",
      "metadata": {
        "id": "78HpnjBjKNed"
      },
      "source": [
        "###Question-->>6\n",
        "1\\\n",
        "1 1\\\n",
        "1 2 1\\\n",
        "1 3 3 1\\\n",
        "1 4 6 4 1\\\n",
        "1 5 10 10 5 1\\\n",
        "1 6 15 20 15 6 1\n"
      ]
    },
    {
      "cell_type": "code",
      "metadata": {
        "colab": {
          "base_uri": "https://localhost:8080/"
        },
        "id": "jjOsHtJtJeIj",
        "outputId": "e12dbf5b-a1c1-46ac-872c-11eb13fb34ca"
      },
      "source": [
        "n=7\n",
        "for line in range(1, n + 1):\n",
        "\tC = 1;\n",
        "\tfor i in range(1, line + 1):\n",
        "\t\tprint(C, end = \" \");\n",
        "\t\tC = int(C * (line - i) / i);\n",
        "\tprint(\"\")"
      ],
      "execution_count": 22,
      "outputs": [
        {
          "output_type": "stream",
          "name": "stdout",
          "text": [
            "1 \n",
            "1 1 \n",
            "1 2 1 \n",
            "1 3 3 1 \n",
            "1 4 6 4 1 \n",
            "1 5 10 10 5 1 \n",
            "1 6 15 20 15 6 1 \n"
          ]
        }
      ]
    },
    {
      "cell_type": "markdown",
      "metadata": {
        "id": "EFqlFxKpP7nl"
      },
      "source": [
        "###Question ->> 7\n",
        "1 2 3 4 5\\\n",
        "2 2 3 4 5\\\n",
        "3 3 3 4 5\\\n",
        "4 4 4 4 5\\\n",
        "5 5 5 5 5\n"
      ]
    },
    {
      "cell_type": "code",
      "metadata": {
        "colab": {
          "base_uri": "https://localhost:8080/"
        },
        "id": "QmQcNCT0Mm8G",
        "outputId": "522a0670-31aa-40ad-a1ce-6534add56ae4"
      },
      "source": [
        "for i in range(1, 6):\n",
        "  for j in range(6, 6-i,-1):\n",
        "    print(i, end=\" \")\n",
        "  for j in range(i+1, 6):\n",
        "    print(j, end=\" \")\n",
        "  print()"
      ],
      "execution_count": 23,
      "outputs": [
        {
          "output_type": "stream",
          "name": "stdout",
          "text": [
            "1 2 3 4 5 \n",
            "2 2 3 4 5 \n",
            "3 3 3 4 5 \n",
            "4 4 4 4 5 \n",
            "5 5 5 5 5 \n"
          ]
        }
      ]
    },
    {
      "cell_type": "markdown",
      "metadata": {
        "id": "iIT8lYBhS59a"
      },
      "source": [
        "###Question -->> 8\n",
        "1\\\n",
        "2 4\\\n",
        "3 6 9\\\n",
        "4 8 12 16\\\n",
        "5 10 15 20 25\\\n",
        "6 12 18 24 30 36\\\n",
        "7 14 21 28 35 42 49\\\n",
        "8 16 24 32 40 48 56 64"
      ]
    },
    {
      "cell_type": "code",
      "metadata": {
        "colab": {
          "base_uri": "https://localhost:8080/"
        },
        "id": "1g1uJkNuQN04",
        "outputId": "ff32c18b-3c8b-4145-f2e9-e4c14decde5c"
      },
      "source": [
        "for i in range(1, 9):\n",
        "  for j in range(i, i*i+1, i):\n",
        "    print(j, end=\" \")\n",
        "  print()"
      ],
      "execution_count": 24,
      "outputs": [
        {
          "output_type": "stream",
          "name": "stdout",
          "text": [
            "1 \n",
            "2 4 \n",
            "3 6 9 \n",
            "4 8 12 16 \n",
            "5 10 15 20 25 \n",
            "6 12 18 24 30 36 \n",
            "7 14 21 28 35 42 49 \n",
            "8 16 24 32 40 48 56 64 \n"
          ]
        }
      ]
    },
    {
      "cell_type": "markdown",
      "metadata": {
        "id": "YwljKXDhU6xM"
      },
      "source": [
        "###Question-->> 9\n",
        "* * * * * *\n",
        " * * * * *\n",
        "  * * * *\n",
        "   * * *\n",
        "    * *\n",
        "     * "
      ]
    },
    {
      "cell_type": "code",
      "metadata": {
        "colab": {
          "base_uri": "https://localhost:8080/"
        },
        "id": "uPsOFUPETN2v",
        "outputId": "78731654-b9a5-4988-c71a-4f9a3c649467"
      },
      "source": [
        "for i in range(6):\n",
        "  for j in range(0,i):\n",
        "    print(\"\", end=\" \")\n",
        "  for j in range(0,6-i):\n",
        "    print(\"*\", end=\" \")\n",
        "  print()"
      ],
      "execution_count": 25,
      "outputs": [
        {
          "output_type": "stream",
          "name": "stdout",
          "text": [
            "* * * * * * \n",
            " * * * * * \n",
            "  * * * * \n",
            "   * * * \n",
            "    * * \n",
            "     * \n"
          ]
        }
      ]
    },
    {
      "cell_type": "markdown",
      "metadata": {
        "id": "tDPmbKe0XQLz"
      },
      "source": [
        "Question-->>10\n",
        "      *\n",
        "     * *\n",
        "    * * *\n",
        "   * * * *\n",
        "  * * * * *\n",
        " * * * * * * "
      ]
    },
    {
      "cell_type": "code",
      "metadata": {
        "colab": {
          "base_uri": "https://localhost:8080/"
        },
        "id": "PbWgk6mOWtnP",
        "outputId": "08ac8c71-5891-4c03-a30b-37e2bbe0dbcd"
      },
      "source": [
        "for i in range(0, 7):\n",
        "  for j in range(0,7-i):\n",
        "    print(\" \", end=\"\")\n",
        "  for j in range(0, i+1):\n",
        "    print(\" * \", end=\"\")\n",
        "  print()"
      ],
      "execution_count": 26,
      "outputs": [
        {
          "output_type": "stream",
          "name": "stdout",
          "text": [
            "        * \n",
            "       *  * \n",
            "      *  *  * \n",
            "     *  *  *  * \n",
            "    *  *  *  *  * \n",
            "   *  *  *  *  *  * \n",
            "  *  *  *  *  *  *  * \n"
          ]
        }
      ]
    },
    {
      "cell_type": "markdown",
      "metadata": {
        "id": "SWexM6CSYtKo"
      },
      "source": [
        "Question -->> 11\n",
        "*\n",
        "* *\n",
        "* * *\n",
        "* * * *\n",
        "* * * * *\n",
        "* * * * * *\n",
        "\n",
        "* * * * * *\n",
        "* * * * *\n",
        "* * * *\n",
        "* * *\n",
        "* *\n",
        "* "
      ]
    },
    {
      "cell_type": "code",
      "metadata": {
        "colab": {
          "base_uri": "https://localhost:8080/"
        },
        "id": "FhOH9gkSYIHd",
        "outputId": "ae2484ef-99b2-4170-83a7-a072a860258b"
      },
      "source": [
        "for i in range(0, 6):\n",
        "  for j in range(0, i+1):\n",
        "    print(\"* \", end=\"\")\n",
        "  print()\n",
        "print()\n",
        "for i in range(0, 6):\n",
        "  for j in range(0, 6-i):\n",
        "    print(\"* \", end=\"\")\n",
        "  print()"
      ],
      "execution_count": 27,
      "outputs": [
        {
          "output_type": "stream",
          "name": "stdout",
          "text": [
            "* \n",
            "* * \n",
            "* * * \n",
            "* * * * \n",
            "* * * * * \n",
            "* * * * * * \n",
            "\n",
            "* * * * * * \n",
            "* * * * * \n",
            "* * * * \n",
            "* * * \n",
            "* * \n",
            "* \n"
          ]
        }
      ]
    },
    {
      "cell_type": "markdown",
      "metadata": {
        "id": "rDGDr6xPZp6d"
      },
      "source": [
        "Question-->>12\n",
        "*\n",
        "* *\n",
        "* * *\n",
        "* * * *\n",
        "* * * * *\n",
        "* * * *\n",
        "* * *\n",
        "* *\n",
        "* "
      ]
    },
    {
      "cell_type": "code",
      "metadata": {
        "colab": {
          "base_uri": "https://localhost:8080/"
        },
        "id": "7jWY_JOcZOXI",
        "outputId": "42bad2a4-c8db-45ff-a9aa-b4bb5a50c5a2"
      },
      "source": [
        "for i in range(0, 5):\n",
        "  for j in range(0, i+1):\n",
        "    print(\"* \", end=\"\")\n",
        "  print()\n",
        "for i in range(0, 4):\n",
        "  for j in range(0, 4-i):\n",
        "    print(\"* \", end=\"\")\n",
        "  print()"
      ],
      "execution_count": 28,
      "outputs": [
        {
          "output_type": "stream",
          "name": "stdout",
          "text": [
            "* \n",
            "* * \n",
            "* * * \n",
            "* * * * \n",
            "* * * * * \n",
            "* * * * \n",
            "* * * \n",
            "* * \n",
            "* \n"
          ]
        }
      ]
    },
    {
      "cell_type": "markdown",
      "metadata": {
        "id": "2BhBGBZQaFK9"
      },
      "source": [
        "Question-->>13\n",
        "        *\n",
        "      * *\n",
        "    * * *\n",
        "  * * * *\n",
        "* * * * *\n",
        "  * * * *\n",
        "    * * *\n",
        "      * *\n",
        "        * "
      ]
    },
    {
      "cell_type": "code",
      "metadata": {
        "colab": {
          "base_uri": "https://localhost:8080/"
        },
        "id": "kKUURGeNZ_sL",
        "outputId": "ece38199-ba9c-4158-ccbf-557b1efbb8ec"
      },
      "source": [
        "for i in range(0, 5):\n",
        "  for j in range(0, 5-i):\n",
        "    print(\"  \",end=\"\")\n",
        "  for j in range(0, i+1):\n",
        "    print(\"* \", end=\"\")\n",
        "  print()\n",
        "for i in range(0, 5):\n",
        "  for j in range(0, i+2):\n",
        "    print(\"  \",end=\"\")\n",
        "  for j in range(0, 4-i):\n",
        "    print(\"* \", end=\"\")\n",
        "  print()"
      ],
      "execution_count": 29,
      "outputs": [
        {
          "output_type": "stream",
          "name": "stdout",
          "text": [
            "          * \n",
            "        * * \n",
            "      * * * \n",
            "    * * * * \n",
            "  * * * * * \n",
            "    * * * * \n",
            "      * * * \n",
            "        * * \n",
            "          * \n",
            "            \n"
          ]
        }
      ]
    },
    {
      "cell_type": "markdown",
      "metadata": {
        "id": "A31ZcK5pbbTe"
      },
      "source": [
        "Question-->>14\n",
        "* * * * *\n",
        " * * * *\n",
        "  * * *\n",
        "   * *\n",
        "    * \n",
        "    *\n",
        "   * *\n",
        "  * * *\n",
        " * * * *\n",
        "* * * * * "
      ]
    },
    {
      "cell_type": "code",
      "metadata": {
        "colab": {
          "base_uri": "https://localhost:8080/"
        },
        "id": "WVFgxCGFavB2",
        "outputId": "ee27031c-67a0-45ff-cdcd-5bc2e8b41b3a"
      },
      "source": [
        "for i in range(0, 5):\n",
        "  for j in range(0, i):\n",
        "    print(\" \", end=\"\")\n",
        "  for j in range(0, 5-i):\n",
        "    print(\"* \", end=\"\")\n",
        "  print()\n",
        "for i in range(1, 6):\n",
        "  for j in range(1, 6-i):\n",
        "    print(\" \", end=\"\")\n",
        "  for j in range(0, i):\n",
        "    print(\"* \", end=\"\")\n",
        "  print()"
      ],
      "execution_count": 30,
      "outputs": [
        {
          "output_type": "stream",
          "name": "stdout",
          "text": [
            "* * * * * \n",
            " * * * * \n",
            "  * * * \n",
            "   * * \n",
            "    * \n",
            "    * \n",
            "   * * \n",
            "  * * * \n",
            " * * * * \n",
            "* * * * * \n"
          ]
        }
      ]
    },
    {
      "cell_type": "markdown",
      "metadata": {
        "id": "RLxtSY3Jc_94"
      },
      "source": [
        "Question-->>15\n",
        "****************\n",
        "*******__*******\n",
        "******____******\n",
        "*****______*****\n",
        "****________****\n",
        "***__________***\n",
        "**____________**\n",
        "*______________*\n"
      ]
    },
    {
      "cell_type": "code",
      "metadata": {
        "colab": {
          "base_uri": "https://localhost:8080/"
        },
        "id": "Fg2hJr8zcCcb",
        "outputId": "65e8eaad-f6a4-40df-bd42-a62660b48090"
      },
      "source": [
        "for i in range(0, 8):\n",
        "  for j in range(0, 8-i):\n",
        "    print(\"*\", end=\"\")\n",
        "  for j in range(0, i):\n",
        "    print(\"_\", end=\"\")\n",
        "  for j in range(0, i):\n",
        "    print(\"_\", end=\"\")\n",
        "  for j in range(0, 8-i):\n",
        "    print(\"*\", end=\"\")\n",
        "  print()"
      ],
      "execution_count": 31,
      "outputs": [
        {
          "output_type": "stream",
          "name": "stdout",
          "text": [
            "****************\n",
            "*******__*******\n",
            "******____******\n",
            "*****______*****\n",
            "****________****\n",
            "***__________***\n",
            "**____________**\n",
            "*______________*\n"
          ]
        }
      ]
    },
    {
      "cell_type": "code",
      "metadata": {
        "id": "hSGf8htxdu2w"
      },
      "source": [
        ""
      ],
      "execution_count": null,
      "outputs": []
    }
  ]
}